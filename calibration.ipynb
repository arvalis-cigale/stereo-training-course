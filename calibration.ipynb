{
 "cells": [
  {
   "cell_type": "markdown",
   "id": "21f37345-f073-43cf-8144-80831d350128",
   "metadata": {},
   "source": [
    "<center>\n",
    "        <div style=\"font-size: 40px; color: black\"><b>Extraction of 3D information from binocular images</b></div>\n",
    "</center>"
   ]
  },
  {
   "cell_type": "markdown",
   "id": "7a22a66f-cab1-4284-9b59-d9e1efd8b5fd",
   "metadata": {
    "scrolled": true
   },
   "source": [
    "EPPS Training School 12.09.2025"
   ]
  },
  {
   "cell_type": "markdown",
   "id": "c6db1302-2437-4892-8314-a2f5b7546693",
   "metadata": {},
   "source": [
    "Samuel Thomas - R&D signal & image processing engineer - team Cigale, Arvalis (s.thomas@arvalis.fr)\n",
    "Part of the LPA CAPTE"
   ]
  },
  {
   "cell_type": "markdown",
   "id": "b40121d7-032d-49b3-b92f-e9ac65bb36f7",
   "metadata": {},
   "source": [
    "licensed under CC By NC 4.0"
   ]
  },
  {
   "cell_type": "markdown",
   "id": "9ea139a2-2fd2-48e6-a449-1f5de6db668b",
   "metadata": {},
   "source": [
    "# Part 1 : Camera calibration\n",
    "\n",
    "In this notebook, you will find the code for the 2 steps required before thinking retrieving the 3D information from a stereo camera pair :\n",
    "\n",
    "* Calibration of a single camera\n",
    "\n",
    "* Calibration of the stereo pair formed by two calibrated cameras\n",
    "\n"
   ]
  },
  {
   "attachments": {},
   "cell_type": "markdown",
   "id": "75e2f91f-10ed-4aea-a92f-65b2c115ad51",
   "metadata": {},
   "source": [
    "### 📌 Documentation can be found here :\n",
    "\n",
    "From OpenCV :\n",
    "\n",
    "[calibrateCamera](./documentation/OpenCV_calibrateCamera.pdf)\n",
    "\n",
    "[stereoCalibrate](./documentation/OpenCV_stereoCalibrate.pdf)\n",
    "\n",
    "https://docs.opencv.org/4.x/d6/d55/tutorial_table_of_content_calib3d.html\n",
    "\n",
    "https://docs.opencv.org/4.x/dc/dbb/tutorial_py_calibration.html\n",
    "\n",
    "https://docs.opencv.org/4.x/d9/d0c/group__calib3d.html\n",
    "\n",
    "https://nikolasent.github.io/computervision/opencv/calibration/2024/12/20/Practical-OpenCV-Refinement-Techniques.html"
   ]
  },
  {
   "cell_type": "code",
   "execution_count": null,
   "id": "5adcff42-a82c-4379-b437-489cdb459d7e",
   "metadata": {},
   "outputs": [],
   "source": [
    "import glob as glob\n",
    "import os\n",
    "\n",
    "import numpy as np\n",
    "import cv2 as cv\n",
    "\n",
    "import calibrationlib"
   ]
  },
  {
   "cell_type": "markdown",
   "id": "8f7a0255-a8da-455d-9df6-aeee0da25454",
   "metadata": {},
   "source": [
    "## Preparating data, paths, and variables\n",
    "\n",
    "This calibration operation has theoritically to be done once, <u>if the cameras are securely fixed together</u> /!\\\n",
    "\n",
    "A minimal set of ~ 10 pairs of <u>perfectly synchronized</u> chessboard images is required officially /!\\\n",
    "\n",
    "In practice we take around 50 images, trying to cover the corners of the image, different orientations of the chessboard and a range of distances to the sensor, consistent with our applications.\n",
    "\n",
    "The more images are well-exposed (taken outside for example), the less noise you will have and the better the chessboard detection will work.\n",
    "\n",
    "Example of such images :\n",
    "\n",
    "<img src=\"static/raw_chessboard.png\" width=\"800\"/>"
   ]
  },
  {
   "cell_type": "code",
   "execution_count": null,
   "id": "e8dd83cb-dccc-40a9-8fd5-672407e49d2b",
   "metadata": {},
   "outputs": [],
   "source": [
    "path_calibration = (r\"./data/calibration/classical_system\")\n",
    "\n",
    "# Calibration paths for left ('Camera1') and right ('Camera2') chessboard images\n",
    "path_images = [\n",
    "    path_calibration + \"/images/Left\",\n",
    "    path_calibration + \"/images/Right\",\n",
    "]\n",
    "\n",
    "path_matrices = path_calibration + \"/example_matrices\"\n",
    "if os.path.isdir(path_matrices) is False:\n",
    "    os.mkdir(path_matrices)\n",
    "\n",
    "path_matrices_single_cam = [\n",
    "    path_matrices + \"/Left\",\n",
    "    path_matrices + \"/Right\",\n",
    "]\n",
    "\n",
    "if os.path.isdir(path_matrices_single_cam[0]) is False:\n",
    "    os.mkdir(path_matrices_single_cam[0])\n",
    "\n",
    "if os.path.isdir(path_matrices_single_cam[1]) is False:\n",
    "    os.mkdir(path_matrices_single_cam[1])\n",
    "\n",
    "image_type = \"jpg\"\n",
    "\n",
    "# Chessboard pattern size (width, height)\n",
    "chessboard_pattern = (13, 8)\n",
    "# Chessboard pattern cell size (here in mm) : used for scaling calibration parameters\n",
    "chessboard_cell_size = 40\n",
    "\n",
    "calibration = calibrationlib.CameraCalibration(chessboard_pattern, chessboard_cell_size)\n",
    "\n",
    "count = 0\n",
    "\n",
    "object_points_cam1 = []\n",
    "image_points_cam1 = []\n",
    "object_points_cam2 = []\n",
    "image_points_cam2 = []\n",
    "\n",
    "success_images_cam1 = []\n",
    "success_images_cam2 = []\n",
    "\n",
    "name = path_calibration + \"/errors.log\"\n",
    "log = open(name, \"w\")"
   ]
  },
  {
   "cell_type": "markdown",
   "id": "9e1f9110-d03e-48a0-99d5-6c5ebaef08ea",
   "metadata": {},
   "source": [
    "## Step 1 : Calibration of a single camera\n",
    "\n",
    "### The aim of this calibration is to get 2 essential parameters :\n",
    "\n",
    "- <u>The intrinsic matrix M :</u>\n",
    "\n",
    "<img src=\"static/intrinsic_matrix.png\" width=\"150\"/>\n",
    "\n",
    "This matrix allows to project the 3D point coordinates (X,Y,Z) (in meters) into the 2D image plane (x,y) (in pixels)\n",
    "\n",
    "<img src=\"static/_2d_projection.png\" width=\"200\"/>\n",
    "    \n",
    "- <u>The distorsion coefficients vector :</u>\n",
    "\n",
    "<img src=\"static/dist_coefs.png\" width=\"250\"/>\n",
    "\n",
    "These coefficients allows to correct the distorsions due to the lens and the manufacturing defaults\n",
    "\n",
    "<img src=\"static/undistort_chessboard.png\" width=\"700\"/>"
   ]
  },
  {
   "cell_type": "markdown",
   "id": "18db2f63-d320-4065-830f-c867e7f3c1bc",
   "metadata": {},
   "source": [
    "## 1. Calibration of the first (left) camera"
   ]
  },
  {
   "cell_type": "code",
   "execution_count": null,
   "id": "6a32b7f4-c30d-4db4-afb2-e6c6661b1fbe",
   "metadata": {},
   "outputs": [],
   "source": [
    "log_line = \"Calibration - Left/first camera\\r\"\n",
    "log.write(log_line)\n",
    "print(log_line)\n",
    "\n",
    "ret1 = False\n",
    "\n",
    "(\n",
    "    ret1,\n",
    "    reprojection_error_cam1,\n",
    "    success_images_cam1,\n",
    "    roi_cam1,\n",
    "    camera_matrix_cam1,\n",
    "    dist_coefs_cam1,\n",
    "    r_vecs_cam1,\n",
    "    t_vecs_cam1,\n",
    "    object_points_cam1,\n",
    "    image_points_cam1,\n",
    "    image_size_cam1,\n",
    ") = calibration.single_calibration(\n",
    "    path_images[0],\n",
    "    image_type,\n",
    "    log_file=log,\n",
    ")\n",
    "\n",
    "tmp = np.array(object_points_cam1)\n",
    "name = path_matrices_single_cam[0] + \"/object_points\"\n",
    "np.save(name, tmp)\n",
    "tmp = np.array(image_points_cam1)\n",
    "name = path_matrices_single_cam[0] + \"/image_points\"\n",
    "np.save(name, tmp)\n",
    "tmp = np.array(success_images_cam1)\n",
    "name = path_matrices_single_cam[0] + \"/success_images\"\n",
    "np.save(name, tmp)\n",
    "\n",
    "tmp = np.array(image_size_cam1)\n",
    "name = path_matrices_single_cam[0] + \"/image_size\"\n",
    "np.save(name, tmp)\n",
    "\n",
    "tmp = np.array(camera_matrix_cam1)\n",
    "name = path_matrices_single_cam[0] + \"/camera_matrix\"\n",
    "np.save(name, tmp)\n",
    "tmp = np.array(dist_coefs_cam1)\n",
    "name = path_matrices_single_cam[0] + \"/dist_coefs\"\n",
    "np.save(name, tmp)\n",
    "tmp = np.array(r_vecs_cam1)\n",
    "name = path_matrices_single_cam[0] + \"/r_vecs\"\n",
    "np.save(name, tmp)\n",
    "tmp = np.array(t_vecs_cam1)\n",
    "name = path_matrices_single_cam[0] + \"/t_vecs\"\n",
    "np.save(name, tmp)\n",
    "tmp = np.array(reprojection_error_cam1)\n",
    "name = path_matrices_single_cam[0] + \"/reprojection_error\"\n",
    "np.save(name, tmp)\n",
    "\n",
    "log_line = f\"End of left/first camera calibration successful : {ret1}\\r\"\n",
    "log.write(log_line)\n",
    "print(log_line)"
   ]
  },
  {
   "cell_type": "markdown",
   "id": "c070a5da-1041-4727-be32-55e39b41fcce",
   "metadata": {},
   "source": [
    "### Outputs :\n",
    "\n",
    "It's important to check the quality of the operation performed by the algorithm ; for this purpose, we can draw the corners that were detected on the original and quickly have a look at the results\n",
    "\n",
    "<img src=\"static/corners_chessboard.png\" width=\"800\"/>\n",
    "\n",
    "Then we can have a look to the intrinsic parameters and distorsion coefficients that were computed\n",
    "\n",
    "Left camera matrix (3x3) :"
   ]
  },
  {
   "cell_type": "code",
   "execution_count": null,
   "id": "1381b189-c215-4926-a7ae-74f181a96d54",
   "metadata": {},
   "outputs": [],
   "source": [
    "camera_matrix_cam1"
   ]
  },
  {
   "cell_type": "markdown",
   "id": "e2f1157b-8c26-476f-9bfe-e8053048c657",
   "metadata": {},
   "source": [
    "Left distorsion coefficients vector (5x1) :"
   ]
  },
  {
   "cell_type": "code",
   "execution_count": null,
   "id": "1103fd05-9f07-46e6-866b-f690cc2dc67c",
   "metadata": {},
   "outputs": [],
   "source": [
    "dist_coefs_cam1"
   ]
  },
  {
   "cell_type": "markdown",
   "id": "9098cbf5-cee2-46ac-a014-00268bd08846",
   "metadata": {},
   "source": [
    "## Step 2 - Part 2 : Calibration of the second (right) camera"
   ]
  },
  {
   "cell_type": "code",
   "execution_count": null,
   "id": "b9e2670d-db37-46cd-b57f-8063d5af50a3",
   "metadata": {},
   "outputs": [],
   "source": [
    "# Right/second camera\n",
    "log_line = \"Calibration - Right/second camera\\r\"\n",
    "log.write(log_line)\n",
    "print(log_line)\n",
    "\n",
    "ret2 = False\n",
    "\n",
    "(\n",
    "    ret2,\n",
    "    reprojection_error_cam2,\n",
    "    success_images_cam2,\n",
    "    roi_cam2,\n",
    "    camera_matrix_cam2,\n",
    "    dist_coefs_cam2,\n",
    "    r_vecs_cam2,\n",
    "    t_vecs_cam2,\n",
    "    object_points_cam2,\n",
    "    image_points_cam2,\n",
    "    img_size_cam2,\n",
    ") = calibration.single_calibration(\n",
    "    path_images[1],\n",
    "    image_type,\n",
    "    log_file=log,\n",
    ")\n",
    "\n",
    "tmp = np.array(object_points_cam2)\n",
    "name = path_matrices_single_cam[1] + \"/object_points\"\n",
    "np.save(name, tmp)\n",
    "tmp = np.array(image_points_cam2)\n",
    "name = path_matrices_single_cam[1] + \"/image_points\"\n",
    "np.save(name, tmp)\n",
    "tmp = np.array(success_images_cam2)\n",
    "name = path_matrices_single_cam[1] + \"/success_images\"\n",
    "np.save(name, tmp)\n",
    "\n",
    "tmp = np.array(image_size_cam1)\n",
    "name = path_matrices_single_cam[1] + \"/image_size\"\n",
    "np.save(name, tmp)\n",
    "\n",
    "tmp = np.array(camera_matrix_cam2)\n",
    "name = path_matrices_single_cam[1] + \"/camera_matrix\"\n",
    "np.save(name, tmp)\n",
    "tmp = np.array(dist_coefs_cam2)\n",
    "name = path_matrices_single_cam[1] + \"/dist_coefs\"\n",
    "np.save(name, tmp)\n",
    "tmp = np.array(r_vecs_cam2)\n",
    "name = path_matrices_single_cam[1] + \"/r_vecs\"\n",
    "np.save(name, tmp)\n",
    "tmp = np.array(t_vecs_cam2)\n",
    "name = path_matrices_single_cam[1] + \"/t_vecs\"\n",
    "np.save(name, tmp)\n",
    "tmp = np.array(reprojection_error_cam2)\n",
    "name = path_matrices_single_cam[1] + \"/reprojection_error\"\n",
    "np.save(name, tmp)\n",
    "\n",
    "log_line = f\"End of right/second camera calibration successfully achieved : {ret2}\\r\"\n",
    "log.write(log_line)\n",
    "print(log_line)"
   ]
  },
  {
   "cell_type": "markdown",
   "id": "188dcb5e-2005-45cc-8751-bd8c66bfbf75",
   "metadata": {},
   "source": [
    "### Outputs :\n",
    "\n",
    "Here we can do the same check as for the left camera\n",
    "\n",
    "Right camera matrix (3x3) :"
   ]
  },
  {
   "cell_type": "code",
   "execution_count": null,
   "id": "4401298a-9f45-4299-9943-d7b4f285e7a2",
   "metadata": {},
   "outputs": [],
   "source": [
    "camera_matrix_cam2"
   ]
  },
  {
   "cell_type": "markdown",
   "id": "a849c617-d93c-4403-bec7-92fccca676dd",
   "metadata": {},
   "source": [
    "Right distorsion coefficients vector (5x1) :"
   ]
  },
  {
   "cell_type": "code",
   "execution_count": null,
   "id": "73f1f7e7-d88c-4d00-af1a-7ce5761d8c68",
   "metadata": {},
   "outputs": [],
   "source": [
    "dist_coefs_cam2"
   ]
  },
  {
   "cell_type": "markdown",
   "id": "da0d190f-acc7-43de-8fcd-e5729ad3bb85",
   "metadata": {},
   "source": [
    "## Step 2 : Calibration of the stereo pair\n",
    "\n",
    "At this step, the two cameras of our stereo pair are calibrated so that each single camera geometry is well-known ; we now need to characterized the geometry of the stereo imaging system.\n",
    "This consists in computing two main parameters : the rotation matrix and the translation that perform a change of basis from the first camera's coordinate system to the second camera's coordinate system.\n",
    "\n",
    "These two parameters allow to correct the geometry of the system so that we are in the ideal case of two coplanar imager planes.\n",
    "\n",
    "<img src=\"static/stereo_calibration.png\" width=\"500\"/>\n"
   ]
  },
  {
   "cell_type": "code",
   "execution_count": null,
   "id": "19c8e9c7-770c-40b1-9546-66539c03aa4b",
   "metadata": {},
   "outputs": [],
   "source": [
    "log_line = \"Stereo calibration between left/first and right/second cameras\\r\"\n",
    "log.write(log_line)\n",
    "print(log_line)\n",
    "\n",
    "if (ret1 is True) and (ret2 is True):\n",
    "\n",
    "    # We keep only image pairs on which were successfully detected the chessboard corners\n",
    "    # for both cameras, and store relative objects and image points for further stereo\n",
    "    # calibration\n",
    "    common_images, index_points_cam1, index_points_cam2 = np.intersect1d(success_images_cam1, success_images_cam2, return_indices=True)\n",
    "\n",
    "    log_line = f\"Common images : {(np.array(success_images_cam1))[index_points_cam1]}\\r\"\n",
    "    log.write(log_line)\n",
    "    log_line = f\"Images indexes for camera 1 : {list(index_points_cam1)}\\r\"\n",
    "    log.write(log_line)\n",
    "    print(log_line)\n",
    "    log_line = f\"Images indexes for camera 2 : {list(index_points_cam2)}\\r\"\n",
    "    log.write(log_line)\n",
    "    print(log_line)\n",
    "\n",
    "\n",
    "    # Resulting list of common points for the two cameras (i.e. from the image pairs on which\n",
    "    # the chessboard has been successfully deteted in both cameras\n",
    "    filtered_object_points_cam1 = np.array(object_points_cam1)\n",
    "    filtered_object_points_cam1 = filtered_object_points_cam1[index_points_cam1]\n",
    "    filtered_object_points_cam1 = list(filtered_object_points_cam1)\n",
    "    \n",
    "    filtered_image_points_cam1 = np.array(image_points_cam1)\n",
    "    filtered_image_points_cam1 = filtered_image_points_cam1[index_points_cam1]\n",
    "    filtered_image_points_cam1 = list(filtered_image_points_cam1)\n",
    "    \n",
    "    filtered_image_points_cam2 = np.array(image_points_cam2)\n",
    "    filtered_image_points_cam2 = filtered_image_points_cam2[index_points_cam2]\n",
    "    filtered_image_points_cam2 = list(filtered_image_points_cam2)\n",
    "\n",
    "    # We compute now stereo calibration : camera_matrices and distorsion coefficients for each\n",
    "    # camera may be slightly modified (depending on the flags parameters : in our case, the output \n",
    "    # values are strictly the same as the input ones), and we get the rotation matrix R and \n",
    "    # translation matrix T that bring points in the left camera coordinate system to points in the \n",
    "    # right camera coordinate system (you may read the doc : documentation/OpenCV_stereoCalibrate) \n",
    "    (\n",
    "        ret,\n",
    "        camera_matrix_cam1_stereo,\n",
    "        dist_coefs_cam1_stereo,\n",
    "        camera_matrix_cam2_stereo,\n",
    "        dist_coefs_cam2_stereo,\n",
    "        R,\n",
    "        T,\n",
    "    ) = calibration.stereo_calibration(\n",
    "        filtered_object_points_cam1,\n",
    "        filtered_image_points_cam1,\n",
    "        filtered_image_points_cam2,\n",
    "        camera_matrix_cam1,\n",
    "        dist_coefs_cam1,\n",
    "        camera_matrix_cam2,\n",
    "        dist_coefs_cam2,\n",
    "        image_size_cam1,\n",
    "        log_file=log,\n",
    "    )\n",
    "\n",
    "    # We save the useful parameters, from which further rectification of images will \n",
    "    # be possible for matching. The rectification maps will be loaded once at the \n",
    "    # beginning of the matching code, and applied to each images pair.\n",
    "    tmp = np.array(camera_matrix_cam1_stereo)\n",
    "    name = path_matrices_single_cam[0] + \"/camera_matrix_from_stereo\"\n",
    "    np.save(name, tmp)\n",
    "    tmp = np.array(dist_coefs_cam1_stereo)\n",
    "    name = path_matrices_single_cam[0] + \"/dist_coefs_from_stereo\"\n",
    "    np.save(name, tmp)\n",
    "    tmp = np.array(camera_matrix_cam2_stereo)\n",
    "    name = path_matrices_single_cam[1] + \"/camera_matrix_from_stereo\"\n",
    "    np.save(name, tmp)\n",
    "    tmp = np.array(dist_coefs_cam2_stereo)\n",
    "    name = path_matrices_single_cam[1] + \"/dist_coefs_from_stereo\"\n",
    "    np.save(name, tmp)\n",
    "    tmp = np.array(R)\n",
    "    name = path_calibration + \"/R\"\n",
    "    np.save(name, tmp)\n",
    "    tmp = np.array(T)\n",
    "    name = path_calibration + \"/T\"\n",
    "    np.save(name, tmp)\n",
    "    tmp = np.array(ret)\n",
    "    name = path_calibration + \"/reprojection_error\"\n",
    "    np.save(name, tmp)\n",
    "\n",
    "    log_line = \"End of stereo calibration successfully achieved\\r\"\n",
    "    log.write(log_line)\n",
    "    print(log_line)\n",
    "    \n",
    "else:\n",
    "    log_line = \"Problem with the calibration of one of the two cameras - no way to perform stereo calibration\"\n",
    "    log.write(log_line)\n",
    "    print(log_line)\n",
    "\n",
    "log_line = \"End of calibration process\"\n",
    "log.write(log_line)\n",
    "print(log_line)"
   ]
  },
  {
   "cell_type": "markdown",
   "id": "c7179a9d-e761-4971-980c-fa44ce1dddac",
   "metadata": {},
   "source": [
    "### Outputs :\n",
    "\n",
    "Then we can have a look to the rotation matrix R and the translation vector that were computed\n",
    "\n",
    "R (3x3) matrix"
   ]
  },
  {
   "cell_type": "code",
   "execution_count": null,
   "id": "c26d867e-00bd-46f9-8954-8421d9081243",
   "metadata": {},
   "outputs": [],
   "source": [
    "R"
   ]
  },
  {
   "cell_type": "markdown",
   "id": "e8ca3b7d-47e1-4af6-bf47-b075024e48c3",
   "metadata": {},
   "source": [
    "T (1x3) vector"
   ]
  },
  {
   "cell_type": "code",
   "execution_count": null,
   "id": "d982701f-b177-40cb-994d-a081556af037",
   "metadata": {},
   "outputs": [],
   "source": [
    "T"
   ]
  },
  {
   "cell_type": "markdown",
   "id": "6136f58a-2e21-4163-beba-7904841d24b0",
   "metadata": {},
   "source": [
    "Question : what basic but essential information involved in calculating depth do we now have here ?\n",
    "How to access it as a single value ?"
   ]
  },
  {
   "cell_type": "code",
   "execution_count": null,
   "id": "160faa89-cb40-4716-a9b9-5450a35ce766",
   "metadata": {},
   "outputs": [],
   "source": []
  }
 ],
 "metadata": {
  "kernelspec": {
   "display_name": "Python 3 (ipykernel)",
   "language": "python",
   "name": "python3"
  },
  "language_info": {
   "codemirror_mode": {
    "name": "ipython",
    "version": 3
   },
   "file_extension": ".py",
   "mimetype": "text/x-python",
   "name": "python",
   "nbconvert_exporter": "python",
   "pygments_lexer": "ipython3",
   "version": "3.12.9"
  }
 },
 "nbformat": 4,
 "nbformat_minor": 5
}
