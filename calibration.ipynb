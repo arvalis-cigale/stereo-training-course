{
 "cells": [
  {
   "cell_type": "markdown",
   "id": "81223150-c198-45af-a98d-d87664bd5b79",
   "metadata": {},
   "source": [
    "https://docs.opencv.org/4.x/dc/dbb/tutorial_py_calibration.html"
   ]
  },
  {
   "cell_type": "markdown",
   "id": "16099f80-4157-403f-b21b-a4326ff5f2b4",
   "metadata": {},
   "source": [
    "https://docs.opencv.org/4.x/d9/d0c/group__calib3d.html"
   ]
  },
  {
   "cell_type": "markdown",
   "id": "7d7e8c77-6639-419d-b62b-3ccf21b72bdd",
   "metadata": {},
   "source": [
    "https://nikolasent.github.io/computervision/opencv/calibration/2024/12/20/Practical-OpenCV-Refinement-Techniques.html"
   ]
  },
  {
   "cell_type": "code",
   "execution_count": 22,
   "id": "20302f07-300e-4f21-a2d8-05ebfb9d678f",
   "metadata": {},
   "outputs": [],
   "source": [
    "import glob as glob\n",
    "import os\n",
    "\n",
    "import numpy as np\n",
    "\n",
    "import calibrationlib\n",
    "\n",
    "# This calibration operation has to be done once theoritically, if the cameras are securely fixed together.\n",
    "# A minimal set of ~10 images is required officially ; in practice we take around 50 images, trying to cover \n",
    "# the corners of the image, different orientations of the chessboard and a range of distances to the sensor\n",
    "# consistent with our applications.\n",
    "# The more images are well-exposed (taken outside for example), the less noise you will have and the better\n",
    "# the chessboard detection will work\n",
    "\n",
    "path_calibration = (r\"./data/calibration/classical_system\")\n",
    "\n",
    "# Calibration paths for left ('Camera1') and right ('Camera2') chessboard images\n",
    "path_images = [\n",
    "    path_calibration + \"/Left\",\n",
    "    path_calibration + \"/Right\",\n",
    "]\n",
    "\n",
    "image_type = \"jpg\"\n",
    "\n",
    "# Chessboard pattern size (width, height)\n",
    "chessboard_pattern = (13, 8)\n",
    "# Chessboard pattern cell size (here in mm) : used for scaling calibration parameters\n",
    "chessboard_cell_size = 40\n",
    "\n",
    "calibration = calibrationlib.CameraCalibration(chessboard_pattern, chessboard_cell_size)\n",
    "\n",
    "count = 0\n",
    "\n",
    "object_points_cam1 = []\n",
    "image_points_cam1 = []\n",
    "object_points_cam2 = []\n",
    "image_points_cam2 = []\n",
    "\n",
    "success_images_cam1 = []\n",
    "success_images_cam2 = []\n",
    "\n",
    "name = path_calibration + \"/errors.log\"\n",
    "log = open(name, \"w\")"
   ]
  },
  {
   "cell_type": "code",
   "execution_count": 23,
   "id": "6a32b7f4-c30d-4db4-afb2-e6c6661b1fbe",
   "metadata": {},
   "outputs": [
    {
     "name": "stdout",
     "output_type": "stream",
     "text": [
      "Calibration - Left/first camera\n",
      "End of left/first camera calibration successful : True\n"
     ]
    }
   ],
   "source": [
    "# Computation of the calibration parameters for both left and right cameras (mandatory), then for the stereo camera pair\n",
    "\n",
    "# Left/first camera\n",
    "log_line = \"Calibration - Left/first camera\\r\"\n",
    "log.write(log_line)\n",
    "print(log_line)\n",
    "\n",
    "ret1 = False\n",
    "if not (os.path.exists(path_images[0] + \"/image_points.npy\")):\n",
    "    (\n",
    "        ret1,\n",
    "        reprojection_error_cam1,\n",
    "        success_images_cam1,\n",
    "        roi_cam1,\n",
    "        camera_matrix_cam1,\n",
    "        dist_coefs_cam1,\n",
    "        r_vecs_cam1,\n",
    "        t_vecs_cam1,\n",
    "        object_points_cam1,\n",
    "        image_points_cam1,\n",
    "        image_size_cam1,\n",
    "    ) = calibration.single_calibration(\n",
    "        path_images[0],\n",
    "        image_type,\n",
    "        log_file=log,\n",
    "    )\n",
    "\n",
    "    tmp = np.array(object_points_cam1)\n",
    "    name = path_images[0] + \"/object_points\"\n",
    "    np.save(name, tmp)\n",
    "    tmp = np.array(image_points_cam1)\n",
    "    name = path_images[0] + \"/image_points\"\n",
    "    np.save(name, tmp)\n",
    "    tmp = np.array(success_images_cam1)\n",
    "    name = path_images[0] + \"/success_images\"\n",
    "    np.save(name, tmp)\n",
    "\n",
    "    tmp = np.array(image_size_cam1)\n",
    "    name = path_images[0] + \"/image_size\"\n",
    "    np.save(name, tmp)\n",
    "\n",
    "    tmp = np.array(camera_matrix_cam1)\n",
    "    name = path_images[0] + \"/camera_matrix\"\n",
    "    np.save(name, tmp)\n",
    "    tmp = np.array(dist_coefs_cam1)\n",
    "    name = path_images[0] + \"/dist_coefs\"\n",
    "    np.save(name, tmp)\n",
    "    tmp = np.array(r_vecs_cam1)\n",
    "    name = path_images[0] + \"/r_vecs\"\n",
    "    np.save(name, tmp)\n",
    "    tmp = np.array(t_vecs_cam1)\n",
    "    name = path_images[0] + \"/t_vecs\"\n",
    "    np.save(name, tmp)\n",
    "    tmp = np.array(reprojection_error_cam1)\n",
    "    name = path_images[0] + \"/reprojection_error\"\n",
    "    np.save(name, tmp)\n",
    "else:\n",
    "    camera_matrix_cam1 = np.load(path_images[0] + \"/camera_matrix.npy\")\n",
    "    dist_coefs_cam1 = np.load(path_images[0] + \"/dist_coefs.npy\")\n",
    "    image_size_cam1 = np.load(path_images[0] + \"/image_size.npy\")\n",
    "    object_points_cam1 = np.load(path_images[0] + \"/object_points.npy\")\n",
    "    object_points_cam1 = list(object_points_cam1)\n",
    "    image_points_cam1 = np.load(path_images[0] + \"/image_points.npy\")\n",
    "    image_points_cam1 = list(image_points_cam1)\n",
    "    success_images_cam1 = np.load(path_images[0] + \"/success_images.npy\")\n",
    "    success_images_cam1 = list(success_images_cam1)\n",
    "\n",
    "    ret1 = True\n",
    "\n",
    "log_line = f\"End of left/first camera calibration successful : {ret1}\\r\"\n",
    "log.write(log_line)\n",
    "print(log_line)"
   ]
  },
  {
   "cell_type": "code",
   "execution_count": 24,
   "id": "1381b189-c215-4926-a7ae-74f181a96d54",
   "metadata": {},
   "outputs": [
    {
     "data": {
      "text/plain": [
       "array([[3.43030370e+03, 0.00000000e+00, 2.36490980e+03],\n",
       "       [0.00000000e+00, 3.43008682e+03, 1.62809585e+03],\n",
       "       [0.00000000e+00, 0.00000000e+00, 1.00000000e+00]])"
      ]
     },
     "execution_count": 24,
     "metadata": {},
     "output_type": "execute_result"
    }
   ],
   "source": [
    "camera_matrix_cam1"
   ]
  },
  {
   "cell_type": "code",
   "execution_count": 25,
   "id": "1103fd05-9f07-46e6-866b-f690cc2dc67c",
   "metadata": {},
   "outputs": [
    {
     "data": {
      "text/plain": [
       "array([[ 0.01741913],\n",
       "       [-0.00377566],\n",
       "       [ 0.00063558],\n",
       "       [-0.00152854],\n",
       "       [-0.01996182]])"
      ]
     },
     "execution_count": 25,
     "metadata": {},
     "output_type": "execute_result"
    }
   ],
   "source": [
    "dist_coefs_cam1"
   ]
  },
  {
   "cell_type": "code",
   "execution_count": 26,
   "id": "b9e2670d-db37-46cd-b57f-8063d5af50a3",
   "metadata": {},
   "outputs": [
    {
     "name": "stdout",
     "output_type": "stream",
     "text": [
      "Calibration - Right/second camera\n",
      "End of right/second camera calibration successfully achieved : True\n"
     ]
    }
   ],
   "source": [
    "# Right/second camera\n",
    "log_line = \"Calibration - Right/second camera\\r\"\n",
    "log.write(log_line)\n",
    "print(log_line)\n",
    "\n",
    "ret2 = False\n",
    "if not (os.path.exists(path_images[1] + \"/image_points.npy\")):\n",
    "    (\n",
    "        ret2,\n",
    "        reprojection_error_cam2,\n",
    "        success_images_cam2,\n",
    "        roi_cam2,\n",
    "        camera_matrix_cam2,\n",
    "        dist_coefs_cam2,\n",
    "        r_vecs_cam2,\n",
    "        t_vecs_cam2,\n",
    "        object_points_cam2,\n",
    "        image_points_cam2,\n",
    "        img_size_cam2,\n",
    "    ) = calibration.single_calibration(\n",
    "        path_images[1],\n",
    "        image_type,\n",
    "        log_file=log,\n",
    "    )\n",
    "\n",
    "    tmp = np.array(object_points_cam2)\n",
    "    name = path_images[1] + \"/object_points\"\n",
    "    np.save(name, tmp)\n",
    "    tmp = np.array(image_points_cam2)\n",
    "    name = path_images[1] + \"/image_points\"\n",
    "    np.save(name, tmp)\n",
    "    tmp = np.array(success_images_cam2)\n",
    "    name = path_images[1] + \"/success_images\"\n",
    "    np.save(name, tmp)\n",
    "\n",
    "    tmp = np.array(image_size_cam1)\n",
    "    name = path_images[1] + \"/image_size\"\n",
    "    np.save(name, tmp)\n",
    "    \n",
    "    tmp = np.array(camera_matrix_cam2)\n",
    "    name = path_images[1] + \"/camera_matrix\"\n",
    "    np.save(name, tmp)\n",
    "    tmp = np.array(dist_coefs_cam2)\n",
    "    name = path_images[1] + \"/dist_coefs\"\n",
    "    np.save(name, tmp)\n",
    "    tmp = np.array(r_vecs_cam2)\n",
    "    name = path_images[1] + \"/r_vecs\"\n",
    "    np.save(name, tmp)\n",
    "    tmp = np.array(t_vecs_cam2)\n",
    "    name = path_images[1] + \"/t_vecs\"\n",
    "    np.save(name, tmp)\n",
    "    tmp = np.array(reprojection_error_cam2)\n",
    "    name = path_images[1] + \"/reprojection_error\"\n",
    "    np.save(name, tmp)\n",
    "else:\n",
    "    camera_matrix_cam2 = np.load(path_images[1] + \"/camera_matrix.npy\")\n",
    "    dist_coefs_cam2 = np.load(path_images[1] + \"/dist_coefs.npy\")\n",
    "    image_size_cam1 = np.load(path_images[0] + \"/image_size.npy\")\n",
    "    object_points_cam2 = np.load(path_images[1] + \"/object_points.npy\")\n",
    "    object_points_cam2 = list(object_points_cam2)\n",
    "    image_points_cam2 = np.load(path_images[1] + \"/image_points.npy\")\n",
    "    image_points_cam2 = list(image_points_cam2)\n",
    "    success_images_cam2 = np.load(path_images[1] + \"/success_images.npy\")\n",
    "    success_images_cam2 = list(success_images_cam2)\n",
    "    \n",
    "    ret2 = True\n",
    "\n",
    "log_line = f\"End of right/second camera calibration successfully achieved : {ret2}\\r\"\n",
    "log.write(log_line)\n",
    "print(log_line)"
   ]
  },
  {
   "cell_type": "code",
   "execution_count": 27,
   "id": "4401298a-9f45-4299-9943-d7b4f285e7a2",
   "metadata": {},
   "outputs": [
    {
     "data": {
      "text/plain": [
       "array([[3.41779178e+03, 0.00000000e+00, 2.37339789e+03],\n",
       "       [0.00000000e+00, 3.41827258e+03, 1.61994480e+03],\n",
       "       [0.00000000e+00, 0.00000000e+00, 1.00000000e+00]])"
      ]
     },
     "execution_count": 27,
     "metadata": {},
     "output_type": "execute_result"
    }
   ],
   "source": [
    "camera_matrix_cam2"
   ]
  },
  {
   "cell_type": "code",
   "execution_count": 28,
   "id": "73f1f7e7-d88c-4d00-af1a-7ce5761d8c68",
   "metadata": {},
   "outputs": [
    {
     "data": {
      "text/plain": [
       "array([[ 0.02194274],\n",
       "       [-0.0166134 ],\n",
       "       [ 0.00044922],\n",
       "       [-0.00137957],\n",
       "       [ 0.00328596]])"
      ]
     },
     "execution_count": 28,
     "metadata": {},
     "output_type": "execute_result"
    }
   ],
   "source": [
    "dist_coefs_cam2"
   ]
  },
  {
   "cell_type": "code",
   "execution_count": 29,
   "id": "846d2730-a7a0-406b-a7e0-c945ceeedd6e",
   "metadata": {},
   "outputs": [
    {
     "name": "stdout",
     "output_type": "stream",
     "text": [
      "Stereo calibration between left/first and right/second cameras\n",
      "End of stereo calibration successfully achieved\n",
      "End of calibration process\n"
     ]
    }
   ],
   "source": [
    "# Calibration of the stereo pair\n",
    "log_line = \"Stereo calibration between left/first and right/second cameras\\r\"\n",
    "log.write(log_line)\n",
    "print(log_line)\n",
    "\n",
    "if (ret1 is True) and (ret2 is True):\n",
    "\n",
    "    # We keep only image pairs on which were successfully detected the chessboard corners\n",
    "    # for both cameras, and store relative objects and image points for further stereo\n",
    "    # calibration\n",
    "    shortest_list_cam1 = success_images_cam1\n",
    "    longest_list_cam1 = success_images_cam2\n",
    "    if len(success_images_cam1) > len(success_images_cam2):\n",
    "        shortest_list_cam1 = success_images_cam2\n",
    "        longest_list_cam1 = success_images_cam1\n",
    "\n",
    "    index_points_cam1 = []\n",
    "    index_points_cam2 = []\n",
    "    for el in shortest_list_cam1:\n",
    "        if el in longest_list_cam1:\n",
    "            index_points_cam1.append(success_images_cam1.index(el))\n",
    "            index_points_cam2.append(success_images_cam2.index(el))\n",
    "\n",
    "    log_line = f\"Common images : {(np.array(success_images_cam1))[index_points_cam1]}\\r\"\n",
    "    log.write(log_line)\n",
    "    log_line = f\"Images indexes for camera 1 : {index_points_cam1}\\r\"\n",
    "    log.write(log_line)\n",
    "    log_line = f\"Images indexes for camera 2 : {index_points_cam2}\\r\"\n",
    "    log.write(log_line)\n",
    "\n",
    "    # Resulting list of common points for the two cameras (i.e. from the image pairs on which\n",
    "    # the chessboard has been successfully deteted in both cameras\n",
    "    filtered_object_points_cam1 = np.array(object_points_cam1)\n",
    "    filtered_object_points_cam1 = filtered_object_points_cam1[index_points_cam1]\n",
    "    filtered_object_points_cam1 = list(filtered_object_points_cam1)\n",
    "    \n",
    "    filtered_image_points_cam1 = np.array(image_points_cam1)\n",
    "    filtered_image_points_cam1 = filtered_image_points_cam1[index_points_cam1]\n",
    "    filtered_image_points_cam1 = list(filtered_image_points_cam1)\n",
    "    \n",
    "    filtered_image_points_cam2 = np.array(image_points_cam2)\n",
    "    filtered_image_points_cam2 = filtered_image_points_cam2[index_points_cam2]\n",
    "    filtered_image_points_cam2 = list(filtered_image_points_cam2)\n",
    "\n",
    "    # We compute now stereo calibration : camera_matrices and distorsion coefficients for each\n",
    "    # camera may be slightly modified (depending on the flags parameters : in our case, the output \n",
    "    # values are strictly the same as the input ones), and we get the rotation matrix R and \n",
    "    # translation matrix T that bring points in the left camera coordinate system to points in the \n",
    "    # right camera coordinate system (you may read the doc : documentation/OpenCV - stereoCalibrate) \n",
    "    (\n",
    "        ret,\n",
    "        camera_matrix_cam1_stereo,\n",
    "        dist_coefs_cam1_stereo,\n",
    "        camera_matrix_cam2_stereo,\n",
    "        dist_coefs_cam2_stereo,\n",
    "        R,\n",
    "        T,\n",
    "    ) = calibration.stereo_calibration(\n",
    "        filtered_object_points_cam1,\n",
    "        filtered_image_points_cam1,\n",
    "        filtered_image_points_cam2,\n",
    "        camera_matrix_cam1,\n",
    "        dist_coefs_cam1,\n",
    "        camera_matrix_cam2,\n",
    "        dist_coefs_cam2,\n",
    "        image_size_cam1,\n",
    "        log_file=log,\n",
    "    )\n",
    "\n",
    "    # We save the useful parameters, from which further rectification of images will \n",
    "    # be possible for matching. The rectification maps will be loaded once at the \n",
    "    # beginning of the matching code, and applied to each images pair.\n",
    "    tmp = np.array(camera_matrix_cam1_stereo)\n",
    "    name = path_images[0] + \"/camera_matrix_from_stereo\"\n",
    "    np.save(name, tmp)\n",
    "    tmp = np.array(dist_coefs_cam1_stereo)\n",
    "    name = path_images[0] + \"/dist_coefs_from_stereo\"\n",
    "    np.save(name, tmp)\n",
    "    tmp = np.array(camera_matrix_cam2_stereo)\n",
    "    name = path_images[1] + \"/camera_matrix_from_stereo\"\n",
    "    np.save(name, tmp)\n",
    "    tmp = np.array(dist_coefs_cam2_stereo)\n",
    "    name = path_images[1] + \"/dist_coefs_from_stereo\"\n",
    "    np.save(name, tmp)\n",
    "    tmp = np.array(R)\n",
    "    name = path_calibration + \"/R\"\n",
    "    np.save(name, tmp)\n",
    "    tmp = np.array(T)\n",
    "    name = path_calibration + \"/T\"\n",
    "    np.save(name, tmp)\n",
    "    tmp = np.array(ret)\n",
    "    name = path_calibration + \"/reprojection_error\"\n",
    "    np.save(name, tmp)\n",
    "\n",
    "    log_line = \"End of stereo calibration successfully achieved\\r\"\n",
    "    log.write(log_line)\n",
    "    print(log_line)\n",
    "else:\n",
    "    log_line = \"Problem with the calibration of one of the two cameras - no way to perform stereo calibration\"\n",
    "    log.write(log_line)\n",
    "    print(log_line)\n",
    "\n",
    "log_line = \"End of calibration process\"\n",
    "log.write(log_line)\n",
    "print(log_line)"
   ]
  },
  {
   "cell_type": "code",
   "execution_count": 30,
   "id": "51b0ce82-bc05-4694-99c4-7f306d587504",
   "metadata": {},
   "outputs": [
    {
     "data": {
      "text/plain": [
       "array([[3.43030370e+03, 0.00000000e+00, 2.36490980e+03],\n",
       "       [0.00000000e+00, 3.43008682e+03, 1.62809585e+03],\n",
       "       [0.00000000e+00, 0.00000000e+00, 1.00000000e+00]])"
      ]
     },
     "execution_count": 30,
     "metadata": {},
     "output_type": "execute_result"
    }
   ],
   "source": [
    "camera_matrix_cam1"
   ]
  },
  {
   "cell_type": "code",
   "execution_count": 31,
   "id": "19ef239e-e92c-456a-9793-c65256acf16d",
   "metadata": {},
   "outputs": [
    {
     "data": {
      "text/plain": [
       "array([[3.43030370e+03, 0.00000000e+00, 2.36490980e+03],\n",
       "       [0.00000000e+00, 3.43008682e+03, 1.62809585e+03],\n",
       "       [0.00000000e+00, 0.00000000e+00, 1.00000000e+00]])"
      ]
     },
     "execution_count": 31,
     "metadata": {},
     "output_type": "execute_result"
    }
   ],
   "source": [
    "camera_matrix_cam1_stereo"
   ]
  },
  {
   "cell_type": "code",
   "execution_count": 32,
   "id": "3363faff-1a24-44c7-a516-ab4993e00cc2",
   "metadata": {},
   "outputs": [
    {
     "data": {
      "text/plain": [
       "array([[ 0.01741913],\n",
       "       [-0.00377566],\n",
       "       [ 0.00063558],\n",
       "       [-0.00152854],\n",
       "       [-0.01996182]])"
      ]
     },
     "execution_count": 32,
     "metadata": {},
     "output_type": "execute_result"
    }
   ],
   "source": [
    "dist_coefs_cam1"
   ]
  },
  {
   "cell_type": "code",
   "execution_count": 33,
   "id": "0d503313-783b-4ee5-914c-8b0ac9daa05e",
   "metadata": {},
   "outputs": [
    {
     "data": {
      "text/plain": [
       "array([[ 0.01741913],\n",
       "       [-0.00377566],\n",
       "       [ 0.00063558],\n",
       "       [-0.00152854],\n",
       "       [-0.01996182]])"
      ]
     },
     "execution_count": 33,
     "metadata": {},
     "output_type": "execute_result"
    }
   ],
   "source": [
    "dist_coefs_cam1_stereo"
   ]
  },
  {
   "cell_type": "code",
   "execution_count": 34,
   "id": "6c44b7a7-f7e6-487d-a0b2-4f23ed033503",
   "metadata": {},
   "outputs": [
    {
     "data": {
      "text/plain": [
       "array([[3.41779178e+03, 0.00000000e+00, 2.37339789e+03],\n",
       "       [0.00000000e+00, 3.41827258e+03, 1.61994480e+03],\n",
       "       [0.00000000e+00, 0.00000000e+00, 1.00000000e+00]])"
      ]
     },
     "execution_count": 34,
     "metadata": {},
     "output_type": "execute_result"
    }
   ],
   "source": [
    "camera_matrix_cam2"
   ]
  },
  {
   "cell_type": "code",
   "execution_count": 35,
   "id": "834de9bb-e3aa-47d2-a038-9feb1868fc9c",
   "metadata": {},
   "outputs": [
    {
     "data": {
      "text/plain": [
       "array([[3.41779178e+03, 0.00000000e+00, 2.37339789e+03],\n",
       "       [0.00000000e+00, 3.41827258e+03, 1.61994480e+03],\n",
       "       [0.00000000e+00, 0.00000000e+00, 1.00000000e+00]])"
      ]
     },
     "execution_count": 35,
     "metadata": {},
     "output_type": "execute_result"
    }
   ],
   "source": [
    "camera_matrix_cam2_stereo"
   ]
  },
  {
   "cell_type": "code",
   "execution_count": 36,
   "id": "e9dbd2f2-8b08-4cdc-9be6-fe4caadddbc4",
   "metadata": {},
   "outputs": [
    {
     "data": {
      "text/plain": [
       "array([[ 0.02194274],\n",
       "       [-0.0166134 ],\n",
       "       [ 0.00044922],\n",
       "       [-0.00137957],\n",
       "       [ 0.00328596]])"
      ]
     },
     "execution_count": 36,
     "metadata": {},
     "output_type": "execute_result"
    }
   ],
   "source": [
    "dist_coefs_cam2"
   ]
  },
  {
   "cell_type": "code",
   "execution_count": 37,
   "id": "d9757a8b-5c33-4ee2-9cc1-2876803eee97",
   "metadata": {},
   "outputs": [
    {
     "data": {
      "text/plain": [
       "array([[ 0.02194274],\n",
       "       [-0.0166134 ],\n",
       "       [ 0.00044922],\n",
       "       [-0.00137957],\n",
       "       [ 0.00328596]])"
      ]
     },
     "execution_count": 37,
     "metadata": {},
     "output_type": "execute_result"
    }
   ],
   "source": [
    "dist_coefs_cam2_stereo"
   ]
  },
  {
   "cell_type": "code",
   "execution_count": 38,
   "id": "c26d867e-00bd-46f9-8954-8421d9081243",
   "metadata": {},
   "outputs": [
    {
     "data": {
      "text/plain": [
       "array([[ 9.99980105e-01, -2.44344321e-05, -6.30780411e-03],\n",
       "       [ 5.57914454e-05,  9.99987643e-01,  4.97101761e-03],\n",
       "       [ 6.30760470e-03, -4.97127063e-03,  9.99967750e-01]])"
      ]
     },
     "execution_count": 38,
     "metadata": {},
     "output_type": "execute_result"
    }
   ],
   "source": [
    "R"
   ]
  },
  {
   "cell_type": "code",
   "execution_count": 39,
   "id": "43d83b3d-7b3f-4e4c-b3f2-3702d255b49b",
   "metadata": {},
   "outputs": [
    {
     "data": {
      "text/plain": [
       "array([[-6.47725249e+01],\n",
       "       [-6.19450306e-02],\n",
       "       [ 2.04588885e-01]])"
      ]
     },
     "execution_count": 39,
     "metadata": {},
     "output_type": "execute_result"
    }
   ],
   "source": [
    "T"
   ]
  }
 ],
 "metadata": {
  "kernelspec": {
   "display_name": "stereo-venv",
   "language": "python",
   "name": "stereo-venv"
  },
  "language_info": {
   "codemirror_mode": {
    "name": "ipython",
    "version": 3
   },
   "file_extension": ".py",
   "mimetype": "text/x-python",
   "name": "python",
   "nbconvert_exporter": "python",
   "pygments_lexer": "ipython3",
   "version": "3.11.9"
  }
 },
 "nbformat": 4,
 "nbformat_minor": 5
}
